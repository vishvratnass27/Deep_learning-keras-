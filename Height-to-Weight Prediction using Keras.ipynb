{
 "cells": [
  {
   "cell_type": "markdown",
   "id": "8033bdb5",
   "metadata": {},
   "source": [
    "This code builds a simple neural network model to predict Weight based on Height using Keras. The model is a basic single-layer regression model, which aims to find a linear relationship between the two variables. Let’s break it down:"
   ]
  },
  {
   "cell_type": "code",
   "execution_count": 2,
   "id": "29c43111",
   "metadata": {},
   "outputs": [],
   "source": [
    "import pandas"
   ]
  },
  {
   "cell_type": "code",
   "execution_count": 3,
   "id": "59381604",
   "metadata": {},
   "outputs": [],
   "source": [
    "dataset = pandas.read_csv('weight-height.csv')"
   ]
  },
  {
   "cell_type": "markdown",
   "id": "ab3b0adc",
   "metadata": {},
   "source": [
    "Pandas is used to load the dataset (weight-height.csv). The dataset.info() function gives a quick overview of the columns, their data types, and if there are any missing values."
   ]
  },
  {
   "cell_type": "code",
   "execution_count": 4,
   "id": "b41b537e",
   "metadata": {},
   "outputs": [
    {
     "name": "stdout",
     "output_type": "stream",
     "text": [
      "<class 'pandas.core.frame.DataFrame'>\n",
      "RangeIndex: 10000 entries, 0 to 9999\n",
      "Data columns (total 3 columns):\n",
      " #   Column  Non-Null Count  Dtype  \n",
      "---  ------  --------------  -----  \n",
      " 0   Gender  10000 non-null  object \n",
      " 1   Height  10000 non-null  float64\n",
      " 2   Weight  10000 non-null  float64\n",
      "dtypes: float64(2), object(1)\n",
      "memory usage: 234.5+ KB\n"
     ]
    }
   ],
   "source": [
    "dataset.info()"
   ]
  },
  {
   "cell_type": "markdown",
   "id": "547da8e2",
   "metadata": {},
   "source": [
    "Defining X and y:"
   ]
  },
  {
   "cell_type": "code",
   "execution_count": 5,
   "id": "8e0d0bf1",
   "metadata": {},
   "outputs": [],
   "source": [
    "y = dataset['Weight']"
   ]
  },
  {
   "cell_type": "code",
   "execution_count": 6,
   "id": "6ae82e6d",
   "metadata": {},
   "outputs": [],
   "source": [
    "X = dataset['Height']"
   ]
  },
  {
   "cell_type": "markdown",
   "id": "7a7a327e",
   "metadata": {},
   "source": [
    "The Weight column is selected as the target variable (y), which the model will try to predict.\n",
    "\n",
    "The Height column is the input feature (X), which will be used as the input for training the model."
   ]
  },
  {
   "cell_type": "markdown",
   "id": "d98d7978",
   "metadata": {},
   "source": [
    "Building the Neural Network (Sequential Model):"
   ]
  },
  {
   "cell_type": "code",
   "execution_count": 7,
   "id": "1e06892f",
   "metadata": {},
   "outputs": [],
   "source": [
    "from keras.models import Sequential"
   ]
  },
  {
   "cell_type": "code",
   "execution_count": 8,
   "id": "3a2c35d6",
   "metadata": {},
   "outputs": [],
   "source": [
    "from keras.layers import Dense"
   ]
  },
  {
   "cell_type": "code",
   "execution_count": 9,
   "id": "b72428b2",
   "metadata": {},
   "outputs": [],
   "source": [
    "brain  = Sequential()"
   ]
  },
  {
   "cell_type": "markdown",
   "id": "a1387028",
   "metadata": {},
   "source": [
    "Sequential model is a linear stack of layers. The model starts as an empty sequence to which layers will be added."
   ]
  },
  {
   "cell_type": "code",
   "execution_count": 10,
   "id": "c7052678",
   "metadata": {},
   "outputs": [
    {
     "data": {
      "text/plain": [
       "{'name': 'sequential',\n",
       " 'trainable': True,\n",
       " 'dtype': {'module': 'keras',\n",
       "  'class_name': 'FloatDTypePolicy',\n",
       "  'config': {'name': 'float32'},\n",
       "  'registered_name': None},\n",
       " 'layers': []}"
      ]
     },
     "execution_count": 10,
     "metadata": {},
     "output_type": "execute_result"
    }
   ],
   "source": [
    "brain.get_config()"
   ]
  },
  {
   "cell_type": "markdown",
   "id": "f2b02f19",
   "metadata": {},
   "source": [
    "Adding a Dense Layer:"
   ]
  },
  {
   "cell_type": "code",
   "execution_count": 11,
   "id": "6b9272d6",
   "metadata": {},
   "outputs": [],
   "source": [
    "brain.add(  Dense(  units=1, activation=\"linear\" , bias_initializer=\"zeros\", kernel_initializer=\"zeros\") )"
   ]
  },
  {
   "cell_type": "markdown",
   "id": "069a21da",
   "metadata": {},
   "source": [
    "A Dense layer with 1 unit (neuron) is added to the model, as this is a simple linear regression.\n",
    "\n",
    "Activation: The activation function is set to 'linear', meaning no transformation is applied to the output.\n",
    "\n",
    "Bias and Kernel Initializer: Both the bias and kernel (weights) are initialized to zeros. This means that at the start, all weights and biases in the model are set to zero."
   ]
  },
  {
   "cell_type": "code",
   "execution_count": 12,
   "id": "5ab341e7",
   "metadata": {},
   "outputs": [
    {
     "data": {
      "text/plain": [
       "{'name': 'sequential',\n",
       " 'trainable': True,\n",
       " 'dtype': {'module': 'keras',\n",
       "  'class_name': 'FloatDTypePolicy',\n",
       "  'config': {'name': 'float32'},\n",
       "  'registered_name': None},\n",
       " 'layers': [{'module': 'keras.layers',\n",
       "   'class_name': 'Dense',\n",
       "   'config': {'name': 'dense',\n",
       "    'trainable': True,\n",
       "    'dtype': {'module': 'keras',\n",
       "     'class_name': 'FloatDTypePolicy',\n",
       "     'config': {'name': 'float32'},\n",
       "     'registered_name': None},\n",
       "    'units': 1,\n",
       "    'activation': 'linear',\n",
       "    'use_bias': True,\n",
       "    'kernel_initializer': {'module': 'keras.initializers',\n",
       "     'class_name': 'Zeros',\n",
       "     'config': {},\n",
       "     'registered_name': None},\n",
       "    'bias_initializer': {'module': 'keras.initializers',\n",
       "     'class_name': 'Zeros',\n",
       "     'config': {},\n",
       "     'registered_name': None},\n",
       "    'kernel_regularizer': None,\n",
       "    'bias_regularizer': None,\n",
       "    'kernel_constraint': None,\n",
       "    'bias_constraint': None},\n",
       "   'registered_name': None}]}"
      ]
     },
     "execution_count": 12,
     "metadata": {},
     "output_type": "execute_result"
    }
   ],
   "source": [
    "brain.get_config()"
   ]
  },
  {
   "cell_type": "code",
   "execution_count": 13,
   "id": "87c62d7e",
   "metadata": {},
   "outputs": [
    {
     "data": {
      "text/plain": [
       "<bound method Model.get_layer of <Sequential name=sequential, built=False>>"
      ]
     },
     "execution_count": 13,
     "metadata": {},
     "output_type": "execute_result"
    }
   ],
   "source": [
    "brain.get_layer"
   ]
  },
  {
   "cell_type": "code",
   "execution_count": 14,
   "id": "968a488b",
   "metadata": {},
   "outputs": [
    {
     "data": {
      "text/plain": [
       "[]"
      ]
     },
     "execution_count": 14,
     "metadata": {},
     "output_type": "execute_result"
    }
   ],
   "source": [
    "brain.get_weights()"
   ]
  },
  {
   "cell_type": "markdown",
   "id": "ba554669",
   "metadata": {},
   "source": [
    "Compiling the Model:"
   ]
  },
  {
   "cell_type": "code",
   "execution_count": 15,
   "id": "a1f8b39f",
   "metadata": {},
   "outputs": [],
   "source": [
    "brain.compile(loss='mean_absolute_error')"
   ]
  },
  {
   "cell_type": "markdown",
   "id": "ff25cb28",
   "metadata": {},
   "source": [
    "The model is compiled using 'mean_absolute_error' as the loss function, which calculates the absolute difference between the actual and predicted values."
   ]
  },
  {
   "cell_type": "markdown",
   "id": "a6cdcf15",
   "metadata": {},
   "source": [
    "Training the Model:"
   ]
  },
  {
   "cell_type": "code",
   "execution_count": 16,
   "id": "124e4ef0",
   "metadata": {},
   "outputs": [
    {
     "name": "stdout",
     "output_type": "stream",
     "text": [
      "Epoch 1/10\n",
      "\u001b[1m313/313\u001b[0m \u001b[32m━━━━━━━━━━━━━━━━━━━━\u001b[0m\u001b[37m\u001b[0m \u001b[1m1s\u001b[0m 1ms/step - loss: 155.5373\n",
      "Epoch 2/10\n",
      "\u001b[1m313/313\u001b[0m \u001b[32m━━━━━━━━━━━━━━━━━━━━\u001b[0m\u001b[37m\u001b[0m \u001b[1m0s\u001b[0m 1ms/step - loss: 134.5256\n",
      "Epoch 3/10\n",
      "\u001b[1m313/313\u001b[0m \u001b[32m━━━━━━━━━━━━━━━━━━━━\u001b[0m\u001b[37m\u001b[0m \u001b[1m0s\u001b[0m 1ms/step - loss: 113.6189\n",
      "Epoch 4/10\n",
      "\u001b[1m313/313\u001b[0m \u001b[32m━━━━━━━━━━━━━━━━━━━━\u001b[0m\u001b[37m\u001b[0m \u001b[1m0s\u001b[0m 1ms/step - loss: 92.3826\n",
      "Epoch 5/10\n",
      "\u001b[1m313/313\u001b[0m \u001b[32m━━━━━━━━━━━━━━━━━━━━\u001b[0m\u001b[37m\u001b[0m \u001b[1m0s\u001b[0m 1ms/step - loss: 71.3559\n",
      "Epoch 6/10\n",
      "\u001b[1m313/313\u001b[0m \u001b[32m━━━━━━━━━━━━━━━━━━━━\u001b[0m\u001b[37m\u001b[0m \u001b[1m0s\u001b[0m 1ms/step - loss: 50.3714\n",
      "Epoch 7/10\n",
      "\u001b[1m313/313\u001b[0m \u001b[32m━━━━━━━━━━━━━━━━━━━━\u001b[0m\u001b[37m\u001b[0m \u001b[1m0s\u001b[0m 1ms/step - loss: 31.8093\n",
      "Epoch 8/10\n",
      "\u001b[1m313/313\u001b[0m \u001b[32m━━━━━━━━━━━━━━━━━━━━\u001b[0m\u001b[37m\u001b[0m \u001b[1m0s\u001b[0m 1ms/step - loss: 21.9381\n",
      "Epoch 9/10\n",
      "\u001b[1m313/313\u001b[0m \u001b[32m━━━━━━━━━━━━━━━━━━━━\u001b[0m\u001b[37m\u001b[0m \u001b[1m0s\u001b[0m 1ms/step - loss: 20.5851\n",
      "Epoch 10/10\n",
      "\u001b[1m313/313\u001b[0m \u001b[32m━━━━━━━━━━━━━━━━━━━━\u001b[0m\u001b[37m\u001b[0m \u001b[1m0s\u001b[0m 1ms/step - loss: 20.1432\n"
     ]
    },
    {
     "data": {
      "text/plain": [
       "<keras.src.callbacks.history.History at 0x293901d3350>"
      ]
     },
     "execution_count": 16,
     "metadata": {},
     "output_type": "execute_result"
    }
   ],
   "source": [
    "brain.fit(X , y, epochs=10 )"
   ]
  },
  {
   "cell_type": "markdown",
   "id": "a2849404",
   "metadata": {},
   "source": [
    "The model is trained for 10 epochs. This is a simple regression task where the model learns to map the input Height to the output Weight."
   ]
  },
  {
   "cell_type": "markdown",
   "id": "2f9f78dd",
   "metadata": {},
   "source": [
    "Weights and Predictions:"
   ]
  },
  {
   "cell_type": "code",
   "execution_count": 17,
   "id": "b2ee59f5",
   "metadata": {},
   "outputs": [
    {
     "data": {
      "text/plain": [
       "[array([[2.426617]], dtype=float32), array([2.2476928], dtype=float32)]"
      ]
     },
     "execution_count": 17,
     "metadata": {},
     "output_type": "execute_result"
    }
   ],
   "source": [
    "brain.get_weights()"
   ]
  },
  {
   "cell_type": "code",
   "execution_count": 18,
   "id": "f92018ee",
   "metadata": {},
   "outputs": [
    {
     "name": "stdout",
     "output_type": "stream",
     "text": [
      "\u001b[1m313/313\u001b[0m \u001b[32m━━━━━━━━━━━━━━━━━━━━\u001b[0m\u001b[37m\u001b[0m \u001b[1m0s\u001b[0m 1ms/step\n"
     ]
    },
    {
     "data": {
      "text/plain": [
       "array([[181.4461 ],\n",
       "       [169.15503],\n",
       "       [182.08453],\n",
       "       ...,\n",
       "       [157.23085],\n",
       "       [169.76735],\n",
       "       [152.56265]], dtype=float32)"
      ]
     },
     "execution_count": 18,
     "metadata": {},
     "output_type": "execute_result"
    }
   ],
   "source": [
    "brain.predict(  X )"
   ]
  },
  {
   "cell_type": "markdown",
   "id": "ae524144",
   "metadata": {},
   "source": [
    "After training, the weights of the model can be checked using brain.get_weights().\n",
    "\n",
    "Predict: This function is used to make predictions on the dataset (X)."
   ]
  },
  {
   "cell_type": "code",
   "execution_count": 19,
   "id": "5d348cbe",
   "metadata": {},
   "outputs": [
    {
     "data": {
      "text/html": [
       "<div>\n",
       "<style scoped>\n",
       "    .dataframe tbody tr th:only-of-type {\n",
       "        vertical-align: middle;\n",
       "    }\n",
       "\n",
       "    .dataframe tbody tr th {\n",
       "        vertical-align: top;\n",
       "    }\n",
       "\n",
       "    .dataframe thead th {\n",
       "        text-align: right;\n",
       "    }\n",
       "</style>\n",
       "<table border=\"1\" class=\"dataframe\">\n",
       "  <thead>\n",
       "    <tr style=\"text-align: right;\">\n",
       "      <th></th>\n",
       "      <th>Gender</th>\n",
       "      <th>Height</th>\n",
       "      <th>Weight</th>\n",
       "    </tr>\n",
       "  </thead>\n",
       "  <tbody>\n",
       "    <tr>\n",
       "      <th>0</th>\n",
       "      <td>Male</td>\n",
       "      <td>73.847017</td>\n",
       "      <td>241.893563</td>\n",
       "    </tr>\n",
       "    <tr>\n",
       "      <th>1</th>\n",
       "      <td>Male</td>\n",
       "      <td>68.781904</td>\n",
       "      <td>162.310473</td>\n",
       "    </tr>\n",
       "    <tr>\n",
       "      <th>2</th>\n",
       "      <td>Male</td>\n",
       "      <td>74.110105</td>\n",
       "      <td>212.740856</td>\n",
       "    </tr>\n",
       "    <tr>\n",
       "      <th>3</th>\n",
       "      <td>Male</td>\n",
       "      <td>71.730978</td>\n",
       "      <td>220.042470</td>\n",
       "    </tr>\n",
       "    <tr>\n",
       "      <th>4</th>\n",
       "      <td>Male</td>\n",
       "      <td>69.881796</td>\n",
       "      <td>206.349801</td>\n",
       "    </tr>\n",
       "    <tr>\n",
       "      <th>...</th>\n",
       "      <td>...</td>\n",
       "      <td>...</td>\n",
       "      <td>...</td>\n",
       "    </tr>\n",
       "    <tr>\n",
       "      <th>9995</th>\n",
       "      <td>Female</td>\n",
       "      <td>66.172652</td>\n",
       "      <td>136.777454</td>\n",
       "    </tr>\n",
       "    <tr>\n",
       "      <th>9996</th>\n",
       "      <td>Female</td>\n",
       "      <td>67.067155</td>\n",
       "      <td>170.867906</td>\n",
       "    </tr>\n",
       "    <tr>\n",
       "      <th>9997</th>\n",
       "      <td>Female</td>\n",
       "      <td>63.867992</td>\n",
       "      <td>128.475319</td>\n",
       "    </tr>\n",
       "    <tr>\n",
       "      <th>9998</th>\n",
       "      <td>Female</td>\n",
       "      <td>69.034243</td>\n",
       "      <td>163.852461</td>\n",
       "    </tr>\n",
       "    <tr>\n",
       "      <th>9999</th>\n",
       "      <td>Female</td>\n",
       "      <td>61.944246</td>\n",
       "      <td>113.649103</td>\n",
       "    </tr>\n",
       "  </tbody>\n",
       "</table>\n",
       "<p>10000 rows × 3 columns</p>\n",
       "</div>"
      ],
      "text/plain": [
       "      Gender     Height      Weight\n",
       "0       Male  73.847017  241.893563\n",
       "1       Male  68.781904  162.310473\n",
       "2       Male  74.110105  212.740856\n",
       "3       Male  71.730978  220.042470\n",
       "4       Male  69.881796  206.349801\n",
       "...      ...        ...         ...\n",
       "9995  Female  66.172652  136.777454\n",
       "9996  Female  67.067155  170.867906\n",
       "9997  Female  63.867992  128.475319\n",
       "9998  Female  69.034243  163.852461\n",
       "9999  Female  61.944246  113.649103\n",
       "\n",
       "[10000 rows x 3 columns]"
      ]
     },
     "execution_count": 19,
     "metadata": {},
     "output_type": "execute_result"
    }
   ],
   "source": [
    "dataset"
   ]
  },
  {
   "cell_type": "markdown",
   "id": "2603fa27",
   "metadata": {},
   "source": [
    "Calculation Explanation:\n",
    "    \n",
    "    This line represents a manual calculation based on a simple linear equation: \n",
    "\n",
    "Weight=1.36+63×2.4, which gives the weight for a person who is 63 units tall (this is probably using the parameters learned by the model, or just an arbitrary calculation)."
   ]
  },
  {
   "cell_type": "code",
   "execution_count": 20,
   "id": "fc3ecf5e",
   "metadata": {},
   "outputs": [
    {
     "data": {
      "text/plain": [
       "152.56"
      ]
     },
     "execution_count": 20,
     "metadata": {},
     "output_type": "execute_result"
    }
   ],
   "source": [
    "1.36 +  63 * 2.4"
   ]
  },
  {
   "cell_type": "code",
   "execution_count": null,
   "id": "db721d0e",
   "metadata": {},
   "outputs": [],
   "source": []
  }
 ],
 "metadata": {
  "kernelspec": {
   "display_name": "Python 3 (ipykernel)",
   "language": "python",
   "name": "python3"
  },
  "language_info": {
   "codemirror_mode": {
    "name": "ipython",
    "version": 3
   },
   "file_extension": ".py",
   "mimetype": "text/x-python",
   "name": "python",
   "nbconvert_exporter": "python",
   "pygments_lexer": "ipython3",
   "version": "3.11.5"
  }
 },
 "nbformat": 4,
 "nbformat_minor": 5
}
